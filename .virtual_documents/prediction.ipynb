








import pandas as pd
import matplotlib.pyplot as plt

# Load data
data = pd.read_csv('MSN.csv') #Give path to desire CSV

# Convert Date/Time to datetime
data['Date/Time'] = pd.to_datetime(data['Date/Time'])

# Sort by Date/Time
data = data.sort_values('Date/Time')

# Set Date/Time as the index for easier plotting
data.set_index('Date/Time', inplace=True)


data = data.drop(columns = 'Ticker')


# Plot the data
plt.figure(figsize=(14, 7))
plt.plot(data.index, data['Open'], label='Open')
plt.plot(data.index, data['High'], label='High')
plt.plot(data.index, data['Low'], label='Low')
plt.plot(data.index, data['Close'], label='Close')

# Customize the plot
plt.title('Stock Prices Over Time')
plt.xlabel('Time')
plt.ylabel('Price')
plt.legend()
plt.grid(True)
plt.xticks(rotation=45)
plt.tight_layout()

# Show the plot
plt.show()


# Create subplots
fig, axs = plt.subplots(4, 1, figsize=(14, 12), sharex=True)

# Plot each column
columns_to_plot = ['Open', 'High', 'Low', 'Close']
for i, column in enumerate(columns_to_plot):
    axs[i].plot(data.index, data[column], label=column, color='tab:blue')
    axs[i].set_ylabel(column)
    axs[i].legend(loc='upper left')
    axs[i].grid(True)

# Set common labels
fig.suptitle('Stock Prices Over Time')
plt.xlabel('Time')
plt.xticks(rotation=45)
plt.tight_layout(rect=[0, 0, 1, 0.96])

# Show plot
plt.show()


# Calculate percentage change
data_pct_change = data.pct_change()

# Plot percentage change
plt.figure(figsize=(14, 7))
plt.plot(data_pct_change.index, data_pct_change['Open'], label='Open', alpha=0.7)
plt.plot(data_pct_change.index, data_pct_change['High'], label='High', alpha=0.7)
plt.plot(data_pct_change.index, data_pct_change['Low'], label='Low', alpha=0.7)
plt.plot(data_pct_change.index, data_pct_change['Close'], label='Close', alpha=0.7)

# Customize the plot
plt.title('Percentage Change of Stock Prices Over Time')
plt.xlabel('Time')
plt.ylabel('Percentage Change')
plt.legend()
plt.grid(True)
plt.xticks(rotation=45)
plt.tight_layout()

# Show plot
plt.show()






from sklearn.preprocessing import MinMaxScaler
from keras.models import Sequential
from keras.layers import LSTM, Dense, Dropout

import numpy as np


# Using Close prices for prediction
dataset = data['Close'].values.reshape(-1, 1)

# Normalize the data
scaler = MinMaxScaler(feature_range=(0, 1))
scaled_data = scaler.fit_transform(dataset)


# Create the training and testing datasets
train_size = int(len(scaled_data) * 0.8)
train_data = scaled_data[:train_size]
test_data = scaled_data[train_size:]


# Function to create dataset
def create_dataset(data, time_step=1):
    X, Y = [], []
    for i in range(len(data) - time_step - 1):
        a = data[i:(i + time_step), 0]
        X.append(a)
        Y.append(data[i + time_step, 0])
    return np.array(X), np.array(Y)


time_step = 10
X_train, y_train = create_dataset(train_data, time_step)
X_test, y_test = create_dataset(test_data, time_step)

# Reshape input to be [samples, time steps, features]
X_train = X_train.reshape(X_train.shape[0], X_train.shape[1], 1)
X_test = X_test.reshape(X_test.shape[0], X_test.shape[1], 1)


# Build and train the LSTM model
model = Sequential()
model.add(LSTM(50, return_sequences=True, input_shape=(time_step, 1)))
model.add(Dropout(0.2))
model.add(LSTM(50, return_sequences=False))
model.add(Dropout(0.2))
model.add(Dense(25))
model.add(Dense(1))


model.compile(optimizer='adam', loss='mean_squared_error')
model.fit(X_train, y_train, batch_size=1, epochs=1)


# Predicting the stock prices
train_predict = model.predict(X_train)
test_predict = model.predict(X_test)

# Transforming back to original scale
train_predict = scaler.inverse_transform(train_predict)
test_predict = scaler.inverse_transform(test_predict)


# Prepare the actual prices for plotting
train_actual = scaler.inverse_transform(train_data[time_step+1:])
test_actual = scaler.inverse_transform(test_data[time_step+1:])

# Plotting the results
plt.figure(figsize=(14, 6))
plt.plot(range(time_step+1, len(train_actual) + time_step+1), train_actual, label='Training Data')
plt.plot(range(len(train_actual) + time_step+1, len(train_actual) + len(test_actual) + time_step+1), test_actual, label='Testing Data')
plt.plot(range(len(train_actual) + time_step+1, len(train_actual) + len(test_actual) + time_step+1), test_predict, label='Predicted Price', linestyle='--')
plt.legend()
plt.show()


# Plotting the results for the test data only
plt.figure(figsize=(14, 6))
plt.plot(range(len(train_actual) + time_step + 1, len(train_actual) + len(test_actual) + time_step + 1), test_actual, label='Testing Data')
plt.plot(range(len(train_actual) + time_step + 1, len(train_actual) + len(test_actual) + time_step + 1), test_predict, label='Predicted Price', linestyle='--')
plt.title('Actual vs Predicted Prices')
plt.xlabel('Time')
plt.ylabel('Price')
plt.legend()
plt.show()


# Visualization for a particular range of result
start_index = 0
end_index = 50

plt.figure(figsize=(14, 6))
plt.plot(range(len(train_actual) + time_step + 1 + start_index, len(train_actual) + time_step + 1 + end_index), 
         test_actual[start_index:end_index], label='Testing Data')
plt.plot(range(len(train_actual) + time_step + 1 + start_index, len(train_actual) + time_step + 1 + end_index), 
         test_predict[start_index:end_index], label='Predicted Price', linestyle='--')
plt.title('Actual vs Predicted Prices (Subrange)')
plt.xlabel('Time')
plt.ylabel('Price')
plt.legend()
plt.show()





# Resample the data to daily frequency and aggregate
daily_df = data.resample('D').agg({
    'Open': 'first',
    'High': 'max',
    'Low': 'min',
    'Close': 'last',
})

# Display the daily aggregated data
print("Dataframe before drop null")
print(daily_df.isnull().sum())
daily_df = daily_df.dropna(axis=0, how='all')

print("Dataframe after drop null")
print(daily_df.isnull().sum())

print(daily_df.head())


# Plot the daily_df
plt.figure(figsize=(14, 7))
plt.plot(daily_df.index, daily_df['Open'], label='Open')
plt.plot(daily_df.index, daily_df['High'], label='High')
plt.plot(daily_df.index, daily_df['Low'], label='Low')
plt.plot(daily_df.index, daily_df['Close'], label='Close')

# Customize the plot
plt.title('Stock Prices Over Time')
plt.xlabel('Time')
plt.ylabel('Price')
plt.legend()
plt.grid(True)
plt.xticks(rotation=45)
plt.tight_layout()

# Show the plot
plt.show()


# Using Close prices for prediction
dataset = daily_df['Close'].values.reshape(-1, 1)

# Normalize the data
scaler = MinMaxScaler(feature_range=(0, 1))
scaled_data = scaler.fit_transform(dataset)

# Create the training and testing datasets
train_size = int(len(scaled_data) * 0.8)
train_data = scaled_data[:train_size]
test_data = scaled_data[train_size:]

time_step = 10
X_train, y_train = create_dataset(train_data, time_step)
X_test, y_test = create_dataset(test_data, time_step)

# Reshape input to be [samples, time steps, features]
X_train = X_train.reshape(X_train.shape[0], X_train.shape[1], 1)
X_test = X_test.reshape(X_test.shape[0], X_test.shape[1], 1)


# Build and train the LSTM model
day_model = Sequential()
day_model.add(LSTM(50, return_sequences=True, input_shape=(time_step, 1)))
day_model.add(LSTM(50, return_sequences=False))
day_model.add(Dense(25))
day_model.add(Dense(1))


day_model.compile(optimizer='adam', loss='mean_squared_error')
day_model.fit(X_train, y_train, batch_size=1, epochs=1)


# Predicting the stock prices
train_predict = day_model.predict(X_train)
test_predict = day_model.predict(X_test)

# Transforming back to original scale
train_predict = scaler.inverse_transform(train_predict)
test_predict = scaler.inverse_transform(test_predict)


# Prepare the actual prices for plotting
train_actual = scaler.inverse_transform(train_data[time_step+1:])
test_actual = scaler.inverse_transform(test_data[time_step+1:])

# Plotting the results
plt.figure(figsize=(14, 6))
plt.plot(range(time_step+1, len(train_actual) + time_step+1), train_actual, label='Training Data')
plt.plot(range(len(train_actual) + time_step+1, len(train_actual) + len(test_actual) + time_step+1), test_actual, label='Testing Data')
plt.plot(range(len(train_actual) + time_step+1, len(train_actual) + len(test_actual) + time_step+1), test_predict, label='Predicted Price', linestyle='--')
plt.legend()
plt.show()


# Plotting the results for the test data only
plt.figure(figsize=(14, 6))
plt.plot(range(len(train_actual) + time_step + 1, len(train_actual) + len(test_actual) + time_step + 1), test_actual, label='Testing Data')
plt.plot(range(len(train_actual) + time_step + 1, len(train_actual) + len(test_actual) + time_step + 1), test_predict, label='Predicted Price', linestyle='--')
plt.title('Actual vs Predicted Prices')
plt.xlabel('Time')
plt.ylabel('Price')
plt.legend()
plt.show()








# Define pipeline for each ticker
def pipeline(filepath, finetune = False):
    # Load data
    data = pd.read_csv(filepath)
    
    # Convert Date/Time to datetime
    data['Date/Time'] = pd.to_datetime(data['Date/Time'])
    
    # Sort by Date/Time
    data = data.sort_values('Date/Time')
    
    # Set Date/Time as the index for easier plotting
    data.set_index('Date/Time', inplace=True)

    data = data.drop(columns = 'Ticker')

    # Plot the data
    plt.figure(figsize=(14, 7))
    plt.plot(data.index, data['Open'], label='Open')
    plt.plot(data.index, data['High'], label='High')
    plt.plot(data.index, data['Low'], label='Low')
    plt.plot(data.index, data['Close'], label='Close')
    
    # Customize the plot
    plt.title('Stock Prices Over Time')
    plt.xlabel('Time')
    plt.ylabel('Price')
    plt.legend()
    plt.grid(True)
    plt.xticks(rotation=45)
    plt.tight_layout()
    
    # Show the plot
    plt.show()

    # Using Close prices for prediction
    dataset = data['Close'].values.reshape(-1, 1)
    
    # Normalize the data
    scaler = MinMaxScaler(feature_range=(0, 1))
    scaled_data = scaler.fit_transform(dataset)

    # Create the training and testing datasets
    train_size = int(len(scaled_data) * 0.8)
    train_data = scaled_data[:train_size]
    test_data = scaled_data[train_size:]

    time_step = 10
    X_train, y_train = create_dataset(train_data, time_step)
    X_test, y_test = create_dataset(test_data, time_step)
    
    # Reshape input to be [samples, time steps, features]
    X_train = X_train.reshape(X_train.shape[0], X_train.shape[1], 1)
    X_test = X_test.reshape(X_test.shape[0], X_test.shape[1], 1)

    if finetune:
        model.fit(X_train, y_train, batch_size=1, epochs=1)
    
    # Predicting the stock prices
    train_predict = model.predict(X_train)
    test_predict = model.predict(X_test)
    
    # Transforming back to original scale
    train_predict = scaler.inverse_transform(train_predict)
    test_predict = scaler.inverse_transform(test_predict)

    # Prepare the actual prices for plotting
    train_actual = scaler.inverse_transform(train_data[time_step+1:])
    test_actual = scaler.inverse_transform(test_data[time_step+1:])
    
    # Plotting the results
    plt.figure(figsize=(14, 6))
    plt.plot(range(time_step+1, len(train_actual) + time_step+1), train_actual, label='Training Data')
    plt.plot(range(len(train_actual) + time_step+1, len(train_actual) + len(test_actual) + time_step+1), test_actual, label='Testing Data')
    plt.plot(range(len(train_actual) + time_step+1, len(train_actual) + len(test_actual) + time_step+1), test_predict, label='Predicted Price', linestyle='--')
    plt.legend()
    plt.show()

    # Plotting the results for the test data only
    plt.figure(figsize=(14, 6))
    plt.plot(range(len(train_actual) + time_step + 1, len(train_actual) + len(test_actual) + time_step + 1), test_actual, label='Testing Data', color = 'orange')
    plt.plot(range(len(train_actual) + time_step + 1, len(train_actual) + len(test_actual) + time_step + 1), test_predict, label='Predicted Price', linestyle='--', color = 'green')
    plt.title('Actual vs Predicted Prices')
    plt.xlabel('Time')
    plt.ylabel('Price')
    plt.legend()
    plt.show()


pipeline("FPT.csv", False)





import pandas as pd
import numpy as np
import matplotlib.pyplot as plt


# Load data
data = pd.read_csv('MSN.csv')

# Convert Date/Time to datetime
data['Date/Time'] = pd.to_datetime(data['Date/Time'])

# Sort by Date/Time
data = data.sort_values('Date/Time')

# Set Date/Time as the index for easier plotting
data.set_index('Date/Time', inplace=True)

# Calculate daily returns
data['Daily Return'] = data['Close'].pct_change()


# Define parameters
num_simulations = 1000  # Number of simulations
num_days = 250  # Number of days to simulate (e.g., 1 year of trading days)

# Get the last closing price
last_price = data['Close'].iloc[-num_days]

# Create an empty array to hold the simulation results
simulation_df = pd.DataFrame()


# Run the simulations
for x in range(num_simulations):
    count = 0
    daily_vol = data['Daily Return'].std()
    
    price_series = []
    price = last_price * (1 + np.random.normal(0, daily_vol))
    price_series.append(price)
    
    for y in range(num_days):
        price = price_series[count] * (1 + np.random.normal(0, daily_vol))
        price_series.append(price)
        count += 1
    
    simulation_df[x] = price_series

# Convert the last row of the simulation results into a list
sim = simulation_df.iloc[-1, :]

# Plot the simulations
plt.figure(figsize=(20, 6))
plt.plot(simulation_df)
plt.title('Monte Carlo Simulation of Stock Prices')
plt.xlabel('Days')
plt.ylabel('Price')
plt.show()


print(data['Close'].iloc[-num_days], data['Close'].iloc[-1]) 


# Plot the histogram of the simulated final prices with color
plt.figure(figsize=(10, 7))
plt.hist(sim, bins=100, color='skyblue', edgecolor='black')
plt.figtext(0.6, 0.7, "Mean: {:.2f} \nStd: {:.2f} \nStart Price: {:.2f}".format(sim.mean(), sim.std(), last_price))
plt.title('Distribution of Simulated Final Prices')
plt.xlabel('Price')
plt.ylabel('Frequency')
plt.show()



